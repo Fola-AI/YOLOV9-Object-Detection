{
 "cells": [
  {
   "cell_type": "code",
   "execution_count": 1,
   "id": "bc309ffc-0186-4f87-8d5c-836db48c4156",
   "metadata": {},
   "outputs": [],
   "source": [
    "import os\n",
    "import pandas as pd\n",
    "from glob import glob\n",
    "from pathlib import Path"
   ]
  },
  {
   "cell_type": "code",
   "execution_count": 3,
   "id": "916fcec4-8c95-4687-b3ab-f7befef6acf8",
   "metadata": {},
   "outputs": [],
   "source": [
    "# Define paths\n",
    "label_path = Path('dataset/training/label_2')\n",
    "output_path = Path('labels_yolo')\n",
    "output_path.mkdir(parents=True, exist_ok=True)  # Create output directory if it doesn't exist"
   ]
  },
  {
   "cell_type": "code",
   "execution_count": 5,
   "id": "7f6f49d9-de02-43b2-ad44-a59a02469ab0",
   "metadata": {},
   "outputs": [],
   "source": [
    "# Define label columns\n",
    "label_cols = [\n",
    "    'label', 'truncated', 'occluded', 'alpha',\n",
    "    'bbox_xmin', 'bbox_ymin', 'bbox_xmax',\n",
    "    'bbox_ymax', 'dim_height', 'dim_width', 'dim_length',\n",
    "    'loc_x', 'loc_y', 'loc_z', 'rotation_y', 'score'\n",
    "]\n",
    "columns_to_keep = ['label', 'bbox_xmin', 'bbox_ymin', 'bbox_xmax', 'bbox_ymax']"
   ]
  },
  {
   "cell_type": "code",
   "execution_count": 7,
   "id": "22e3a9f8-a1b9-4451-8188-90c373806208",
   "metadata": {},
   "outputs": [],
   "source": [
    "# Function to eliminate unnecessary variables\n",
    "def eliminate_variables(label_file):\n",
    "    data = pd.read_csv(\n",
    "        label_file,\n",
    "        sep=\" \",\n",
    "        names=label_cols[:15],\n",
    "        usecols=columns_to_keep\n",
    "    )\n",
    "    return data"
   ]
  },
  {
   "cell_type": "code",
   "execution_count": 11,
   "id": "a6181b70-8594-4fe6-9c29-50d2a159f5f0",
   "metadata": {},
   "outputs": [],
   "source": [
    "# Function to convert bounding boxes to YOLO format\n",
    "def convert_bbox_to_yolo_format(bbox, img_width, img_height):\n",
    "    x_center = ((bbox['bbox_xmin'] + bbox['bbox_xmax']) / 2) / img_width\n",
    "    y_center = ((bbox['bbox_ymin'] + bbox['bbox_ymax']) / 2) / img_height\n",
    "    width = (bbox['bbox_xmax'] - bbox['bbox_xmin']) / img_width\n",
    "    height = (bbox['bbox_ymax'] - bbox['bbox_ymin']) / img_height\n",
    "    return x_center, y_center, width, height"
   ]
  },
  {
   "cell_type": "code",
   "execution_count": 13,
   "id": "f6d3bcda-e62b-48ee-8821-b27599c63011",
   "metadata": {},
   "outputs": [],
   "source": [
    "# Process the entire dataset\n",
    "def process_dataset(label_path, img_width, img_height):\n",
    "    for label_file in label_path.glob('*.txt'):\n",
    "        data = eliminate_variables(label_file)\n",
    "        data = data[data['label'] != 'DontCare']  # Ignore 'DontCare' labels\n",
    "        data['label'] = data['label'].map(label_mapping)\n",
    "        \n",
    "        yolo_labels = []\n",
    "        for _, row in data.iterrows():\n",
    "            x_center, y_center, width, height = convert_bbox_to_yolo_format(row, img_width, img_height)\n",
    "            yolo_labels.append(f\"{int(row['label'])} {x_center:.6f} {y_center:.6f} {width:.6f} {height:.6f}\")\n",
    "\n",
    "        # Write to YOLO formatted text file\n",
    "        output_file = output_path / label_file.name\n",
    "        with open(output_file, 'w') as f:\n",
    "            f.write(\"\\n\".join(yolo_labels))"
   ]
  },
  {
   "cell_type": "code",
   "execution_count": 15,
   "id": "70058aa1-6b57-4acd-a7b5-b388b5d04307",
   "metadata": {},
   "outputs": [],
   "source": [
    "# Define mapping for labels to categorical values\n",
    "label_mapping = {\n",
    "    'Car': 0, 'Van': 1, 'Truck': 2, 'Pedestrian': 3, \n",
    "    'Person_sitting': 4, 'Cyclist': 5, 'Tram': 6, 'Misc': 7, 'DontCare': 8\n",
    "}"
   ]
  },
  {
   "cell_type": "code",
   "execution_count": 17,
   "id": "64efdb9b-48c0-41f3-8ac8-111b34075189",
   "metadata": {},
   "outputs": [],
   "source": [
    "# Function to transform labels into categorical variables\n",
    "def transform_to_categorical(data):\n",
    "    data['label'] = data['label'].map(label_mapping)\n",
    "    return data"
   ]
  },
  {
   "cell_type": "code",
   "execution_count": 21,
   "id": "557291e0-6602-4a38-9838-493687f7a325",
   "metadata": {},
   "outputs": [],
   "source": [
    "# # Example usage\n",
    "# img_width, img_height = 1242, 375  # Replace with the actual image width and height\n",
    "# process_dataset(label_path, img_width, img_height)"
   ]
  },
  {
   "cell_type": "code",
   "execution_count": null,
   "id": "fab754ee-5343-4613-93f3-849fdba48d31",
   "metadata": {},
   "outputs": [],
   "source": []
  },
  {
   "cell_type": "code",
   "execution_count": null,
   "id": "4a186020-8d96-4a9a-9290-613da218349f",
   "metadata": {},
   "outputs": [],
   "source": []
  }
 ],
 "metadata": {
  "kernelspec": {
   "display_name": "Python 3 (ipykernel)",
   "language": "python",
   "name": "python3"
  },
  "language_info": {
   "codemirror_mode": {
    "name": "ipython",
    "version": 3
   },
   "file_extension": ".py",
   "mimetype": "text/x-python",
   "name": "python",
   "nbconvert_exporter": "python",
   "pygments_lexer": "ipython3",
   "version": "3.11.7"
  }
 },
 "nbformat": 4,
 "nbformat_minor": 5
}
